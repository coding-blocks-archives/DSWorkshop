{
 "cells": [
  {
   "cell_type": "code",
   "execution_count": null,
   "metadata": {},
   "outputs": [],
   "source": [
    "! pip install opencv-python"
   ]
  },
  {
   "cell_type": "code",
   "execution_count": null,
   "metadata": {},
   "outputs": [],
   "source": [
    "import cv2"
   ]
  },
  {
   "cell_type": "code",
   "execution_count": null,
   "metadata": {},
   "outputs": [],
   "source": [
    "# cb.lk/facemodel"
   ]
  },
  {
   "cell_type": "code",
   "execution_count": null,
   "metadata": {},
   "outputs": [],
   "source": [
    "cam = cv2.VideoCapture(0)"
   ]
  },
  {
   "cell_type": "code",
   "execution_count": null,
   "metadata": {},
   "outputs": [],
   "source": [
    "face_detector = cv2.CascadeClassifier(\"haarcascade_frontalface_alt (1).xml\")"
   ]
  },
  {
   "cell_type": "code",
   "execution_count": null,
   "metadata": {},
   "outputs": [],
   "source": [
    "%matplotlib"
   ]
  },
  {
   "cell_type": "code",
   "execution_count": null,
   "metadata": {},
   "outputs": [],
   "source": [
    "while True:\n",
    "    ret_indicator, frame =  cam.read()\n",
    "    \n",
    "    if ret_indicator == False:\n",
    "        continue\n",
    "    \n",
    "    faces = face_detector.detectMultiScale(frame)\n",
    "    \n",
    "    for f in faces:\n",
    "        x,y,w,h = f\n",
    "        cv2.rectangle(frame, (x,y), (x+w,y+h), (255,255,255), 2 )\n",
    "        cv2.putText\n",
    "        \n",
    "    cv2.imshow(\"My Face Detection\", frame)\n",
    "    \n",
    "    key_pressed = cv2.waitKey(1) & 0xFF\n",
    "    \n",
    "    if key_pressed == ord('q'):\n",
    "        break\n",
    "        \n",
    "cam.release()\n",
    "cv2.destroyAllWindows()"
   ]
  },
  {
   "cell_type": "markdown",
   "metadata": {},
   "source": [
    "# Face Swap"
   ]
  },
  {
   "cell_type": "code",
   "execution_count": 1,
   "metadata": {},
   "outputs": [
    {
     "name": "stdout",
     "output_type": "stream",
     "text": [
      "Using matplotlib backend: MacOSX\n"
     ]
    }
   ],
   "source": [
    "import cv2\n",
    "%matplotlib\n",
    "cap = cv2.VideoCapture(0)\n",
    "\n",
    "classifier = cv2.CascadeClassifier(\"haarcascade_frontalface_alt (1).xml\")\n",
    "\n",
    "while True:\n",
    "    retval, image = cap.read()\n",
    "\n",
    "    if retval:\n",
    "\n",
    "        faces = classifier.detectMultiScale(image)\n",
    "\n",
    "\n",
    "\n",
    "        if len(faces) >= 2:\n",
    "            sorted_faces = sorted(faces, key=lambda item:item[2]*item[3])\n",
    "\n",
    "            face1, face2 = sorted_faces[-2:]\n",
    "\n",
    "            x1, y1, w1, h1 = face1\n",
    "            x2, y2, w2, h2 = face2\n",
    "\n",
    "            cut1 = image[y1:y1+h1, x1:x1+w1]\n",
    "            cut2 = image[y2:y2+h2, x2:x2+w2]\n",
    "\n",
    "            t_cut1 = cv2.resize(cut2, (cut1.shape[1], cut1.shape[0]))\n",
    "            t_cut2 = cv2.resize(cut1, (cut2.shape[1], cut2.shape[0]))\n",
    "\n",
    "            image[y1:y1 + h1, x1:x1 + w1] = t_cut1\n",
    "            image[y2:y2 + h2, x2:x2 + w2] = t_cut2\n",
    "\n",
    "            cv2.imshow(\"swapped\", image)\n",
    "        else:\n",
    "            cv2.imshow(\"swapped\", image)\n",
    "\n",
    "\n",
    "    key = cv2.waitKey(1)\n",
    "\n",
    "    if key == ord(\"q\"):\n",
    "        break\n",
    "\n",
    "cap.release()\n",
    "cv2.destroyAllWindows()"
   ]
  },
  {
   "cell_type": "code",
   "execution_count": null,
   "metadata": {},
   "outputs": [],
   "source": []
  }
 ],
 "metadata": {
  "kernelspec": {
   "display_name": "Python 3",
   "language": "python",
   "name": "python3"
  },
  "language_info": {
   "codemirror_mode": {
    "name": "ipython",
    "version": 3
   },
   "file_extension": ".py",
   "mimetype": "text/x-python",
   "name": "python",
   "nbconvert_exporter": "python",
   "pygments_lexer": "ipython3",
   "version": "3.7.4"
  }
 },
 "nbformat": 4,
 "nbformat_minor": 2
}
